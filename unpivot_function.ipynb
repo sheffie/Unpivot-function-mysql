{
 "cells": [
  {
   "cell_type": "markdown",
   "metadata": {},
   "source": [
    "# Creating an unpivot function for MySQL\n",
    "\n",
    "MySQL does not contain a feature that allows us to unpivot a table easily. The goal of the function below will be to:  \n",
    "*    Extract the whole table needed to build the unpivoted version  \n",
    "*    Create a temporary table, suffixed \\_tidy, that will contain the final data  \n",
    "*    Tidy the data using pandas, within python itself, using tidy data principles  \n",
    "*    Re-upload the table as a new, tidied up table within the database.  \n",
    "\n",
    "**Important note:** Using this function will require the MySQLdb module to be installed on your computer.   \n",
    "More information on how to install at the link below:  \n",
    "https://pypi.python.org/pypi/MySQL-python/1.2.5  \n",
    "http://mysql-python.sourceforge.net/MySQLdb.html\n"
   ]
  },
  {
   "cell_type": "code",
   "execution_count": null,
   "metadata": {
    "collapsed": true
   },
   "outputs": [],
   "source": [
    "def unpivot(host, user, pwd, db1, table, name_col = 'VARIABLE', port = 3306, pvt_cols = [], column_index = []):\n",
    "    \n",
    "    #Import MySQLdb and Pandas\n",
    "    import MySQLdb\n",
    "    import pandas as pd\n",
    "    from sqlalchemy import create_engine\n",
    "    \n",
    "    #Extract values from table to unpivot\n",
    "    db=MySQLdb.connect(host=host,user=user,passwd=pwd,db=db1,port=port)\n",
    "    engine = create_engine('mysql://{0}:{1}@{2}:{3}'.format(user, pwd, host, port))\n",
    "    engine.execute(\"USE \"+db1)\n",
    "    c = db.cursor()\n",
    "    c.execute(\"SELECT * FROM \" + table)\n",
    "    c.execute(\"DROP TABLE IF EXISTS \" +table+\"_TIDY\")\n",
    "    data = list(c.fetchall())\n",
    "    header_names = [i[0] for i in c.description]\n",
    "    \n",
    "    #constitute pd dataframe from data + headers\n",
    "    df = pd.DataFrame(data,columns=header_names)\n",
    "    \n",
    "    id_vars = []\n",
    "    for i in range(len(header_names)):\n",
    "        if header_names[i] in pvt_cols:\n",
    "            1==1\n",
    "        else:\n",
    "            id_vars.append(header_names[i])\n",
    "    \n",
    "    #Proceed to unpivot \n",
    "    df = pd.melt(df,id_vars=id_vars,value_vars=pvt_cols,var_name=name_col)\n",
    "    \n",
    "    df.to_sql(name=table+'_TIDY', con=engine, if_exists = 'replace')\n",
    "        \n",
    "    "
   ]
  }
 ],
 "metadata": {
  "kernelspec": {
   "display_name": "Python 3",
   "language": "python",
   "name": "python3"
  },
  "language_info": {
   "codemirror_mode": {
    "name": "ipython",
    "version": 3
   },
   "file_extension": ".py",
   "mimetype": "text/x-python",
   "name": "python",
   "nbconvert_exporter": "python",
   "pygments_lexer": "ipython3",
   "version": "3.6.0"
  }
 },
 "nbformat": 4,
 "nbformat_minor": 2
}
